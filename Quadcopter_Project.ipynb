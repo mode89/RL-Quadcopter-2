{
 "cells": [
  {
   "cell_type": "markdown",
   "metadata": {},
   "source": [
    "# Project: Train a Quadcopter How to Fly\n",
    "\n",
    "Design an agent to fly a quadcopter, and then train it using a reinforcement learning algorithm of your choice! \n",
    "\n",
    "Try to apply the techniques you have learnt, but also feel free to come up with innovative ideas and test them."
   ]
  },
  {
   "cell_type": "markdown",
   "metadata": {},
   "source": [
    "## Instructions\n",
    "\n",
    "Take a look at the files in the directory to better understand the structure of the project. \n",
    "\n",
    "- `task.py`: Define your task (environment) in this file.\n",
    "- `agents/`: Folder containing reinforcement learning agents.\n",
    "    - `policy_search.py`: A sample agent has been provided here.\n",
    "    - `agent.py`: Develop your agent here.\n",
    "- `physics_sim.py`: This file contains the simulator for the quadcopter.  **DO NOT MODIFY THIS FILE**.\n",
    "\n",
    "For this project, you will define your own task in `task.py`.  Although we have provided a example task to get you started, you are encouraged to change it.  Later in this notebook, you will learn more about how to amend this file.\n",
    "\n",
    "You will also design a reinforcement learning agent in `agent.py` to complete your chosen task.  \n",
    "\n",
    "You are welcome to create any additional files to help you to organize your code.  For instance, you may find it useful to define a `model.py` file defining any needed neural network architectures.\n",
    "\n",
    "## Controlling the Quadcopter\n",
    "\n",
    "We provide a sample agent in the code cell below to show you how to use the sim to control the quadcopter.  This agent is even simpler than the sample agent that you'll examine (in `agents/policy_search.py`) later in this notebook!\n",
    "\n",
    "The agent controls the quadcopter by setting the revolutions per second on each of its four rotors.  The provided agent in the `Basic_Agent` class below always selects a random action for each of the four rotors.  These four speeds are returned by the `act` method as a list of four floating-point numbers.  \n",
    "\n",
    "For this project, the agent that you will implement in `agents/agent.py` will have a far more intelligent method for selecting actions!"
   ]
  },
  {
   "cell_type": "code",
   "execution_count": null,
   "metadata": {
    "collapsed": true
   },
   "outputs": [],
   "source": [
    "import random\n",
    "\n",
    "class Basic_Agent():\n",
    "    def __init__(self, task):\n",
    "        self.task = task\n",
    "    \n",
    "    def act(self):\n",
    "        new_thrust = random.gauss(450., 25.)\n",
    "        return [new_thrust + random.gauss(0., 1.) for x in range(4)]"
   ]
  },
  {
   "cell_type": "markdown",
   "metadata": {},
   "source": [
    "Run the code cell below to have the agent select actions to control the quadcopter.  \n",
    "\n",
    "Feel free to change the provided values of `runtime`, `init_pose`, `init_velocities`, and `init_angle_velocities` below to change the starting conditions of the quadcopter.\n",
    "\n",
    "The `labels` list below annotates statistics that are saved while running the simulation.  All of this information is saved in a text file `data.txt` and stored in the dictionary `results`.  "
   ]
  },
  {
   "cell_type": "code",
   "execution_count": null,
   "metadata": {
    "collapsed": true
   },
   "outputs": [],
   "source": [
    "%load_ext autoreload\n",
    "%autoreload 2\n",
    "\n",
    "import csv\n",
    "import numpy as np\n",
    "from task import Task\n",
    "\n",
    "# Modify the values below to give the quadcopter a different starting position.\n",
    "runtime = 5.                                     # time limit of the episode\n",
    "init_pose = np.array([0., 0., 10., 0., 0., 0.])  # initial pose\n",
    "init_velocities = np.array([0., 0., 0.])         # initial velocities\n",
    "init_angle_velocities = np.array([0., 0., 0.])   # initial angle velocities\n",
    "file_output = 'data.txt'                         # file name for saved results\n",
    "\n",
    "# Setup\n",
    "task = Task(init_pose, init_velocities, init_angle_velocities, runtime)\n",
    "agent = Basic_Agent(task)\n",
    "done = False\n",
    "labels = ['time', 'x', 'y', 'z', 'phi', 'theta', 'psi', 'x_velocity',\n",
    "          'y_velocity', 'z_velocity', 'phi_velocity', 'theta_velocity',\n",
    "          'psi_velocity', 'rotor_speed1', 'rotor_speed2', 'rotor_speed3', 'rotor_speed4']\n",
    "results = {x : [] for x in labels}\n",
    "\n",
    "# Run the simulation, and save the results.\n",
    "with open(file_output, 'w') as csvfile:\n",
    "    writer = csv.writer(csvfile)\n",
    "    writer.writerow(labels)\n",
    "    while True:\n",
    "        rotor_speeds = agent.act()\n",
    "        _, _, done = task.step(rotor_speeds)\n",
    "        to_write = [task.sim.time] + list(task.sim.pose) + list(task.sim.v) + list(task.sim.angular_v) + list(rotor_speeds)\n",
    "        for ii in range(len(labels)):\n",
    "            results[labels[ii]].append(to_write[ii])\n",
    "        writer.writerow(to_write)\n",
    "        if done:\n",
    "            break"
   ]
  },
  {
   "cell_type": "markdown",
   "metadata": {},
   "source": [
    "Run the code cell below to visualize how the position of the quadcopter evolved during the simulation."
   ]
  },
  {
   "cell_type": "code",
   "execution_count": null,
   "metadata": {
    "collapsed": true
   },
   "outputs": [],
   "source": [
    "import matplotlib.pyplot as plt\n",
    "%matplotlib inline\n",
    "\n",
    "plt.plot(results['time'], results['x'], label='x')\n",
    "plt.plot(results['time'], results['y'], label='y')\n",
    "plt.plot(results['time'], results['z'], label='z')\n",
    "plt.legend()\n",
    "_ = plt.ylim()"
   ]
  },
  {
   "cell_type": "markdown",
   "metadata": {},
   "source": [
    "The next code cell visualizes the velocity of the quadcopter."
   ]
  },
  {
   "cell_type": "code",
   "execution_count": null,
   "metadata": {
    "collapsed": true
   },
   "outputs": [],
   "source": [
    "plt.plot(results['time'], results['x_velocity'], label='x_hat')\n",
    "plt.plot(results['time'], results['y_velocity'], label='y_hat')\n",
    "plt.plot(results['time'], results['z_velocity'], label='z_hat')\n",
    "plt.legend()\n",
    "_ = plt.ylim()"
   ]
  },
  {
   "cell_type": "markdown",
   "metadata": {},
   "source": [
    "Next, you can plot the Euler angles (the rotation of the quadcopter over the $x$-, $y$-, and $z$-axes),"
   ]
  },
  {
   "cell_type": "code",
   "execution_count": null,
   "metadata": {
    "collapsed": true
   },
   "outputs": [],
   "source": [
    "plt.plot(results['time'], results['phi'], label='phi')\n",
    "plt.plot(results['time'], results['theta'], label='theta')\n",
    "plt.plot(results['time'], results['psi'], label='psi')\n",
    "plt.legend()\n",
    "_ = plt.ylim()"
   ]
  },
  {
   "cell_type": "markdown",
   "metadata": {},
   "source": [
    "before plotting the velocities (in radians per second) corresponding to each of the Euler angles."
   ]
  },
  {
   "cell_type": "code",
   "execution_count": null,
   "metadata": {
    "collapsed": true
   },
   "outputs": [],
   "source": [
    "plt.plot(results['time'], results['phi_velocity'], label='phi_velocity')\n",
    "plt.plot(results['time'], results['theta_velocity'], label='theta_velocity')\n",
    "plt.plot(results['time'], results['psi_velocity'], label='psi_velocity')\n",
    "plt.legend()\n",
    "_ = plt.ylim()"
   ]
  },
  {
   "cell_type": "markdown",
   "metadata": {},
   "source": [
    "Finally, you can use the code cell below to print the agent's choice of actions.  "
   ]
  },
  {
   "cell_type": "code",
   "execution_count": null,
   "metadata": {
    "collapsed": true
   },
   "outputs": [],
   "source": [
    "plt.plot(results['time'], results['rotor_speed1'], label='Rotor 1 revolutions / second')\n",
    "plt.plot(results['time'], results['rotor_speed2'], label='Rotor 2 revolutions / second')\n",
    "plt.plot(results['time'], results['rotor_speed3'], label='Rotor 3 revolutions / second')\n",
    "plt.plot(results['time'], results['rotor_speed4'], label='Rotor 4 revolutions / second')\n",
    "plt.legend()\n",
    "_ = plt.ylim()"
   ]
  },
  {
   "cell_type": "markdown",
   "metadata": {},
   "source": [
    "When specifying a task, you will derive the environment state from the simulator.  Run the code cell below to print the values of the following variables at the end of the simulation:\n",
    "- `task.sim.pose` (the position of the quadcopter in ($x,y,z$) dimensions and the Euler angles),\n",
    "- `task.sim.v` (the velocity of the quadcopter in ($x,y,z$) dimensions), and\n",
    "- `task.sim.angular_v` (radians/second for each of the three Euler angles)."
   ]
  },
  {
   "cell_type": "code",
   "execution_count": null,
   "metadata": {
    "collapsed": true
   },
   "outputs": [],
   "source": [
    "# the pose, velocity, and angular velocity of the quadcopter at the end of the episode\n",
    "print(task.sim.pose)\n",
    "print(task.sim.v)\n",
    "print(task.sim.angular_v)"
   ]
  },
  {
   "cell_type": "markdown",
   "metadata": {},
   "source": [
    "In the sample task in `task.py`, we use the 6-dimensional pose of the quadcopter to construct the state of the environment at each timestep.  However, when amending the task for your purposes, you are welcome to expand the size of the state vector by including the velocity information.  You can use any combination of the pose, velocity, and angular velocity - feel free to tinker here, and construct the state to suit your task.\n",
    "\n",
    "## The Task\n",
    "\n",
    "A sample task has been provided for you in `task.py`.  Open this file in a new window now. \n",
    "\n",
    "The `__init__()` method is used to initialize several variables that are needed to specify the task.  \n",
    "- The simulator is initialized as an instance of the `PhysicsSim` class (from `physics_sim.py`).  \n",
    "- Inspired by the methodology in the original DDPG paper, we make use of action repeats.  For each timestep of the agent, we step the simulation `action_repeats` timesteps.  If you are not familiar with action repeats, please read the **Results** section in [the DDPG paper](https://arxiv.org/abs/1509.02971).\n",
    "- We set the number of elements in the state vector.  For the sample task, we only work with the 6-dimensional pose information.  To set the size of the state (`state_size`), we must take action repeats into account.  \n",
    "- The environment will always have a 4-dimensional action space, with one entry for each rotor (`action_size=4`). You can set the minimum (`action_low`) and maximum (`action_high`) values of each entry here.\n",
    "- The sample task in this provided file is for the agent to reach a target position.  We specify that target position as a variable.\n",
    "\n",
    "The `reset()` method resets the simulator.  The agent should call this method every time the episode ends.  You can see an example of this in the code cell below.\n",
    "\n",
    "The `step()` method is perhaps the most important.  It accepts the agent's choice of action `rotor_speeds`, which is used to prepare the next state to pass on to the agent.  Then, the reward is computed from `get_reward()`.  The episode is considered done if the time limit has been exceeded, or the quadcopter has travelled outside of the bounds of the simulation.\n",
    "\n",
    "In the next section, you will learn how to test the performance of an agent on this task."
   ]
  },
  {
   "cell_type": "markdown",
   "metadata": {},
   "source": [
    "## The Agent\n",
    "\n",
    "The sample agent given in `agents/policy_search.py` uses a very simplistic linear policy to directly compute the action vector as a dot product of the state vector and a matrix of weights. Then, it randomly perturbs the parameters by adding some Gaussian noise, to produce a different policy. Based on the average reward obtained in each episode (`score`), it keeps track of the best set of parameters found so far, how the score is changing, and accordingly tweaks a scaling factor to widen or tighten the noise.\n",
    "\n",
    "Run the code cell below to see how the agent performs on the sample task."
   ]
  },
  {
   "cell_type": "code",
   "execution_count": null,
   "metadata": {
    "collapsed": true
   },
   "outputs": [],
   "source": [
    "import sys\n",
    "import pandas as pd\n",
    "from agents.policy_search import PolicySearch_Agent\n",
    "from task import Task\n",
    "\n",
    "num_episodes = 1000\n",
    "target_pos = np.array([0., 0., 10.])\n",
    "task = Task(target_pos=target_pos)\n",
    "agent = PolicySearch_Agent(task) \n",
    "\n",
    "for i_episode in range(1, num_episodes+1):\n",
    "    state = agent.reset_episode() # start a new episode\n",
    "    while True:\n",
    "        action = agent.act(state) \n",
    "        next_state, reward, done = task.step(action)\n",
    "        agent.step(reward, done)\n",
    "        state = next_state\n",
    "        if done:\n",
    "            print(\"\\rEpisode = {:4d}, score = {:7.3f} (best = {:7.3f}), noise_scale = {}\".format(\n",
    "                i_episode, agent.score, agent.best_score, agent.noise_scale), end=\"\")  # [debug]\n",
    "            break\n",
    "    sys.stdout.flush()"
   ]
  },
  {
   "cell_type": "markdown",
   "metadata": {},
   "source": [
    "This agent should perform very poorly on this task.  And that's where you come in!"
   ]
  },
  {
   "cell_type": "markdown",
   "metadata": {
    "collapsed": true
   },
   "source": [
    "## Define the Task, Design the Agent, and Train Your Agent!\n",
    "\n",
    "Amend `task.py` to specify a task of your choosing.  If you're unsure what kind of task to specify, you may like to teach your quadcopter to takeoff, hover in place, land softly, or reach a target pose.  \n",
    "\n",
    "After specifying your task, use the sample agent in `agents/policy_search.py` as a template to define your own agent in `agents/agent.py`.  You can borrow whatever you need from the sample agent, including ideas on how you might modularize your code (using helper methods like `act()`, `learn()`, `reset_episode()`, etc.).\n",
    "\n",
    "Note that it is **highly unlikely** that the first agent and task that you specify will learn well.  You will likely have to tweak various hyperparameters and the reward function for your task until you arrive at reasonably good behavior.\n",
    "\n",
    "As you develop your agent, it's important to keep an eye on how it's performing. Use the code above as inspiration to build in a mechanism to log/save the total rewards obtained in each episode to file.  If the episode rewards are gradually increasing, this is an indication that your agent is learning."
   ]
  },
  {
   "cell_type": "code",
   "execution_count": 29,
   "metadata": {},
   "outputs": [
    {
     "name": "stderr",
     "output_type": "stream",
     "text": [
      "/usr/lib64/python3.5/site-packages/h5py/__init__.py:34: FutureWarning: Conversion of the second argument of issubdtype from `float` to `np.floating` is deprecated. In future, it will be treated as `np.float64 == np.dtype(float).type`.\n",
      "  from ._conv import register_converters as _register_converters\n"
     ]
    },
    {
     "name": "stdout",
     "output_type": "stream",
     "text": [
      "Episode: 39999 Reward: -17.2143\n",
      "Dumping summary ...\n"
     ]
    }
   ],
   "source": [
    "from agents.agent import Agent\n",
    "import numpy as np\n",
    "from task import Task\n",
    "import tensorflow as tf\n",
    "import json\n",
    "import sys\n",
    "\n",
    "def train(agent, task):\n",
    "    summary = list()\n",
    "\n",
    "    for episodeId in range(40000):\n",
    "        episodeReward = 0.0\n",
    "        state = task.reset()\n",
    "\n",
    "        stepCount = 0\n",
    "        while True:\n",
    "            stepCount += 1\n",
    "            action = agent.act(state)\n",
    "            nextState, reward, done = task.step(action[0])\n",
    "            agent.learn(nextState=nextState, reward=reward, done=done)\n",
    "            state = nextState\n",
    "            episodeReward += reward\n",
    "            if done:\n",
    "                break\n",
    "\n",
    "        print(\"\\rEpisode: {} Reward: {:4.3f}\".format(episodeId, episodeReward), end=\"\")\n",
    "\n",
    "        summary.append({\n",
    "            \"episodeId\": episodeId,\n",
    "            \"reward\": episodeReward,\n",
    "        })\n",
    "\n",
    "    print(\"\\nDumping summary ...\")\n",
    "    with open(\"summary.json\", \"w\") as summaryFile:\n",
    "        json.dump(summary, summaryFile, indent=True)\n",
    "\n",
    "task = Task()\n",
    "\n",
    "agent = Agent(\n",
    "    stateDim=task.state_size,\n",
    "    actionDim=task.action_size,\n",
    "    actionBound=[task.action_low, task.action_high],\n",
    "    actorLearningRate=0.0001,\n",
    "    criticLearningRate=0.001,\n",
    "    batchSize=64,\n",
    "    tau=0.01,\n",
    "    gamma=0.99,\n",
    "    bufferSize=1000000,\n",
    "    seed=1234)\n",
    "\n",
    "with tf.Session() as session:\n",
    "    session.run(tf.global_variables_initializer())\n",
    "    agent.set_session(session)\n",
    "    train(agent, task)\n"
   ]
  },
  {
   "cell_type": "markdown",
   "metadata": {
    "collapsed": true
   },
   "source": [
    "## Plot the Rewards\n",
    "\n",
    "Once you are satisfied with your performance, plot the episode rewards, either from a single run, or averaged over multiple runs. "
   ]
  },
  {
   "cell_type": "code",
   "execution_count": 38,
   "metadata": {},
   "outputs": [
    {
     "name": "stdout",
     "output_type": "stream",
     "text": [
      "Final average reward: -17.975\n"
     ]
    },
    {
     "data": {
      "image/png": "[encoded data removed]",
      "text/plain": [
       "<matplotlib.figure.Figure at 0x7f2abc17e710>"
      ]
     },
     "metadata": {},
     "output_type": "display_data"
    }
   ],
   "source": [
    "from collections import deque\n",
    "import json\n",
    "import matplotlib.pyplot as plt\n",
    "import numpy as np\n",
    "%matplotlib inline\n",
    "\n",
    "def average_reward(rewards):\n",
    "    rewardQueue = deque(maxlen=10)\n",
    "    for reward in rewards:\n",
    "        rewardQueue.append(reward)\n",
    "        yield np.mean(rewardQueue)\n",
    "\n",
    "with open(\"summary.json\", \"r\") as summaryFile:\n",
    "    summary = json.load(summaryFile)\n",
    "    episodeId = [episode[\"episodeId\"] for episode in summary]\n",
    "    reward = [episode[\"reward\"] for episode in summary]\n",
    "    averageReward = list(average_reward(reward))\n",
    "    plt.semilogy(episodeId, np.abs(reward))\n",
    "    plt.semilogy(episodeId, np.abs(averageReward))\n",
    "    print(\"Final average reward: {:.3f}\".format(averageReward[-1]))"
   ]
  },
  {
   "cell_type": "markdown",
   "metadata": {
    "collapsed": true
   },
   "source": [
    "## Reflections\n",
    "\n",
    "**Question 1**: Describe the task that you specified in `task.py`.  How did you design the reward function?\n",
    "\n",
    "**Answer**: The task, that I've chosen, is hovering in the same (initial) position without changing the orientation, during 1 second of simulation time. I've tried different reward functions using the distance from the initial position, angular difference from the initial orientation, linear acceleration. Finally, I've set the reward function to:\n",
    "\n",
    "`-np.sqrt(np.mean([d_x, d_y, d_z, d_roll, d_pitch]))`\n",
    "\n",
    "where `d_x`, `d_y`, `d_z` are the distances from the current position to the initial position along the X, Y, Z axes, and `d_roll`, `d_pitch` are the angular differences between the current orientation and the initial orientation of the quadcopter. This reward function gives the higher negative reward (around zero), when the quadcopter is around the initial position and close to the initial orientation. And the reward function gives the lower negative reward, when the quadcopter is far from the initial position and far from the initial orientation."
   ]
  },
  {
   "cell_type": "markdown",
   "metadata": {},
   "source": [
    "**Question 2**: Discuss your agent briefly, using the following questions as a guide:\n",
    "\n",
    "- What learning algorithm(s) did you try? What worked best for you?\n",
    "- What was your final choice of hyperparameters (such as $\\alpha$, $\\gamma$, $\\epsilon$, etc.)?\n",
    "- What neural network architecture did you use (if any)? Specify layers, sizes, activation functions, etc.\n",
    "\n",
    "**Answer**:\n",
    "\n",
    "I've tried the DDPG algorithm. First, I've tried to run the implementation of DDPG proposed by the project's guide. I played with different hyperparameters, but wasn't able to get it working. Later I found [this article](http://pemami4911.github.io/blog/2016/08/21/ddpg-rl.html) decribing the DDPG algorithm. I've tried the accompanying [code](https://github.com/pemami4911/deep-rl/tree/master/ddpg) implementation of the algorithm on the OpenAI's Pendulum-v0 task. The algorithm achieved an acceptable performance in less than a hundred episodes. The original code was implemented using the tflearn framework. I've refactored it and made it Tensorflow only. Initially I tried to rewrite it on Keras, but turned out the Keras' backend implementation isn't flexible enough for this algorithm, that's why I switched to TF-only implementation.\n",
    "\n",
    "I've kept the original values of hyperparameters proposed by the article's source code:\n",
    "* gamma: 0.99\n",
    "* minibatch size: 64\n",
    "* tau: 0.001\n",
    "* actor learning rate: 0.0001\n",
    "* critic learning rate: 0.001\n",
    "\n",
    "The algorithm implements actor and critic using separate neural networks. The actor's network has the following structure:\n",
    "* fully-connected layer with 128 outputs and ReLU activation. Takes the environment state vector as an input.\n",
    "* batch normalization layer\n",
    "* fully-connected layer with 128 outputs and ReLU activation\n",
    "* batch normalization layer\n",
    "* fully-connected layer with number of outputs equal to the size of the environment action vector and tanh activation\n",
    "* linear transformation layer that maps tanh to the actual range of action values\n",
    "\n",
    "The critic's network has two input layers. Each of the input layers followed by a separate sets of layers. First set of layers:\n",
    "* fully-connected layer with 128 outputs and ReLU activation. Takes the environment state vector as an input.\n",
    "* batch normalization layer\n",
    "* fully-connected layer with 128 outputs and linear activation\n",
    "* batch normalization layer\n",
    "The second set of layers:\n",
    "* fully-connected layer with 128 outputs and linear activation. Takes the agent's action vector as an input\n",
    "* batch normalization layer\n",
    "\n",
    "The outputs of these two sets of layers then combined using the sum operator followed by the ReLU activation function and a fully-connected layer with linear activation and a single output, representing the value of an action taken by the agent."
   ]
  },
  {
   "cell_type": "markdown",
   "metadata": {},
   "source": [
    "**Question 3**: Using the episode rewards plot, discuss how the agent learned over time.\n",
    "\n",
    "- Was it an easy task to learn or hard?\n",
    "- Was there a gradual learning curve, or an aha moment?\n",
    "- How good was the final performance of the agent? (e.g. mean rewards over the last 10 episodes)\n",
    "\n",
    "**Answer**:\n",
    "\n",
    "Reward value varies a lot between -100 and 0, that's why I wanted to plot it using a log scale. matplotlib doesn't support negative log scale, that's why I plot an absolute value of the reward. Since, the reward function cannot give a positive reward, it shouldn't be a problem.\n",
    "\n",
    "It took several thousands episodes to learn an acceptable behavior. Compared to the pendulum task, where agent learnd behavior in less then a hundred episodes, this task can be considered as hard.\n",
    "\n",
    "Based on the average reward, I'd say that the learning curve is gradual. We can see spikes of the average reward, corresponding to temporary unlearning. Those spikes could be resulted by the lag between the actor's and the critic's learning processes or by the noise applied to the actions generated by the actor. Also there's a moment after 20000 episodes, where the reward is low for couple thousands episodes, I think, that could be caused by overfitting, since the replay buffer is 1000000 records big and the lenght of an episode is 50, which means that after 20000 episodes the replay buffer starts to pop out the very early episodes, where the agent didn't perform well, making the neural networks to forget that bad experience. I think, it can be treated by making the replay buffer longer or by changing the replay buffer's pop out policy. For example, we can force the replay buffer to sustain the uniform distribution of rewards along all of the records.\n",
    "\n",
    "The final average reward is around -18, which is very low. But, as we can see from the reward plot, the best average reward achieved by the agent is around -1, which correspondes to the value of 0.02 per step of the RMS error of the combined position and orientation of the quadcopter. If we stop the training earlier, based on the value of the average reward, or save checkpoints, whenever the reward gets higher, we can keep the best achieved behavior."
   ]
  },
  {
   "cell_type": "markdown",
   "metadata": {},
   "source": [
    "**Question 4**: Briefly summarize your experience working on this project. You can use the following prompts for ideas.\n",
    "\n",
    "- What was the hardest part of the project? (e.g. getting started, plotting, specifying the task, etc.)\n",
    "- Did you find anything interesting in how the quadcopter or your agent behaved?\n",
    "\n",
    "**Answer**:\n",
    "\n",
    "I think, the hardest part of the project for me was the initial implementation of the algorithm. Gladly, I've found some implementation on Internet, that I could use as a reference point. I used the OpenAI's pendulum task for testing. That helps to keep the functionality while doing refactoring. Refactoring itself helped me to get a good understanding of the algorithm's implementation.\n",
    "\n",
    "I used to print out the position and the orientation of the quadcopter after each step of the training. During the early episodes of training, the quadcopter tended always to fall down, then there were several episodes, where the quadcopter always flyed up high, then several episodes, where it flied to the side. Looks like that's how the agent learns the Q-function.\n",
    "\n",
    "I've started with the pendulum task. Then tried the hovering task with two steps episodes. After that continued with 10 steps episodes. And finally used 1 seconds episodes (50 steps). Gradual increasing of complexity helped me to understand the relation between complexity and convergance. The longer tasks or more complex tasks converge slower. I guess, that the longer and more complex tasks require the hierarchical approach for better convergance.\n",
    "\n",
    "I think, that the performance of the agent can be improved by using the [Hierarchical Actor-Critic](https://arxiv.org/abs/1712.00948) algorithm."
   ]
  }
 ],
 "metadata": {
  "anaconda-cloud": {},
  "kernelspec": {
   "display_name": "Python [default]",
   "language": "python",
   "name": "python3"
  },
  "language_info": {
   "codemirror_mode": {
    "name": "ipython",
    "version": 3
   },
   "file_extension": ".py",
   "mimetype": "text/x-python",
   "name": "python",
   "nbconvert_exporter": "python",
   "pygments_lexer": "ipython3",
   "version": "3.5.3"
  }
 },
 "nbformat": 4,
 "nbformat_minor": 2
}
